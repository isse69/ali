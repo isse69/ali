{
  "nbformat": 4,
  "nbformat_minor": 0,
  "metadata": {
    "colab": {
      "provenance": [],
      "authorship_tag": "ABX9TyOnGcZExtONhEZqlsHx9GuV",
      "include_colab_link": true
    },
    "kernelspec": {
      "name": "python3",
      "display_name": "Python 3"
    },
    "language_info": {
      "name": "python"
    }
  },
  "cells": [
    {
      "cell_type": "markdown",
      "metadata": {
        "id": "view-in-github",
        "colab_type": "text"
      },
      "source": [
        "<a href=\"https://colab.research.google.com/github/isse69/ali/blob/main/listcomprehention1.ipynb\" target=\"_parent\"><img src=\"https://colab.research.google.com/assets/colab-badge.svg\" alt=\"Open In Colab\"/></a>"
      ]
    },
    {
      "cell_type": "code",
      "execution_count": 1,
      "metadata": {
        "colab": {
          "base_uri": "https://localhost:8080/"
        },
        "id": "f1WcBNt6yiGb",
        "outputId": "ef9191ae-e828-4515-b043-956f2272d7b6"
      },
      "outputs": [
        {
          "output_type": "stream",
          "name": "stdout",
          "text": [
            "['English', 'Germany', 'Arabic', 'Somali', 'Amhari']\n",
            "['English', 'Germany', 'Arabic', 'Somali', 'Amhari']\n",
            "['English', 'Germany', 'Arabic', 'Somali', 'Amhari']\n",
            "['English', 'Germany', 'Arabic', 'Somali', 'Amhari']\n",
            "['English', 'Germany', 'Arabic', 'Somali', 'Amhari']\n"
          ]
        }
      ],
      "source": [
        "list = ['English', 'Germany', 'Arabic', 'Somali', 'Amhari']\n",
        "for i in range(len(list)):\n",
        "  print(list)\n",
        "  i += 1"
      ]
    },
    {
      "cell_type": "code",
      "source": [
        "list = ['English', 'Germany', 'Arabic', 'Somali', 'Amhari']\n",
        "i = 0\n",
        "while i < len(list):\n",
        "  print(list[i])\n",
        "  i += 1"
      ],
      "metadata": {
        "colab": {
          "base_uri": "https://localhost:8080/"
        },
        "id": "OfP9y7qzyyde",
        "outputId": "4aeb1f42-0bd3-4edb-9785-1e77043bcf3a"
      },
      "execution_count": 3,
      "outputs": [
        {
          "output_type": "stream",
          "name": "stdout",
          "text": [
            "English\n",
            "Germany\n",
            "Arabic\n",
            "Somali\n",
            "Amhari\n"
          ]
        }
      ]
    },
    {
      "cell_type": "code",
      "source": [
        "list = [20,12,34,30,50,45,70,65]\n",
        "l1 = []\n",
        "for x in list:\n",
        "  if x % 5 == 0:\n",
        "    l1.append(x)\n",
        "print(l1)"
      ],
      "metadata": {
        "colab": {
          "base_uri": "https://localhost:8080/"
        },
        "id": "vvOrzFvRzC3V",
        "outputId": "61a62770-f458-4af8-c18f-c62fd74bb334"
      },
      "execution_count": 4,
      "outputs": [
        {
          "output_type": "stream",
          "name": "stdout",
          "text": [
            "[20, 30, 50, 45, 70, 65]\n"
          ]
        }
      ]
    },
    {
      "cell_type": "code",
      "source": [
        "list = [20,12,34,30,50,45,70,65]\n",
        "l1 = []\n",
        "for i in list:\n",
        "  if i > 25:\n",
        "    l1.append(i)\n",
        "    print(l1)"
      ],
      "metadata": {
        "colab": {
          "base_uri": "https://localhost:8080/"
        },
        "id": "aPUqLfIMzUFZ",
        "outputId": "1b00bcae-83ae-476f-fe94-dc79e23d2775"
      },
      "execution_count": 10,
      "outputs": [
        {
          "output_type": "stream",
          "name": "stdout",
          "text": [
            "[34]\n",
            "[34, 30]\n",
            "[34, 30, 50]\n",
            "[34, 30, 50, 45]\n",
            "[34, 30, 50, 45, 70]\n",
            "[34, 30, 50, 45, 70, 65]\n"
          ]
        }
      ]
    },
    {
      "cell_type": "code",
      "source": [
        "list = [20,12,34,30,50,45,70,65]\n",
        "l1 = []\n",
        "for i in list:\n",
        "  if i > 25:\n",
        "    l1.append(i)\n",
        "    print(l1)"
      ],
      "metadata": {
        "colab": {
          "base_uri": "https://localhost:8080/"
        },
        "id": "_D6AF4EMzoII",
        "outputId": "29725747-d061-47f9-d2e2-912abdab984a"
      },
      "execution_count": 13,
      "outputs": [
        {
          "output_type": "stream",
          "name": "stdout",
          "text": [
            "[34]\n",
            "[34, 30]\n",
            "[34, 30, 50]\n",
            "[34, 30, 50, 45]\n",
            "[34, 30, 50, 45, 70]\n",
            "[34, 30, 50, 45, 70, 65]\n"
          ]
        }
      ]
    },
    {
      "cell_type": "code",
      "source": [
        "list = [20,12,34,30,50,45,70,65, 3,5,7]\n",
        "list.sort(reverse = True)\n",
        "print(list)"
      ],
      "metadata": {
        "colab": {
          "base_uri": "https://localhost:8080/"
        },
        "id": "SCYuutge0GZl",
        "outputId": "dad8c06e-54a9-415a-e913-2872179842da"
      },
      "execution_count": 19,
      "outputs": [
        {
          "output_type": "stream",
          "name": "stdout",
          "text": [
            "[70, 65, 50, 45, 34, 30, 20, 12, 7, 5, 3]\n"
          ]
        }
      ]
    },
    {
      "cell_type": "code",
      "source": [
        "list = ['pineapple', 'Mango', 'Orange', 'Banana', 'Petroot', 'Apple']\n",
        "list.sort()\n",
        "print(list)"
      ],
      "metadata": {
        "colab": {
          "base_uri": "https://localhost:8080/"
        },
        "id": "qi_3FQVG02jt",
        "outputId": "6c7aaabc-0f22-4d9f-ffac-f9ee8e72a39d"
      },
      "execution_count": 21,
      "outputs": [
        {
          "output_type": "stream",
          "name": "stdout",
          "text": [
            "['Apple', 'Banana', 'Mango', 'Orange', 'Petroot', 'pineapple']\n"
          ]
        }
      ]
    },
    {
      "cell_type": "code",
      "source": [
        "list = ['pineapple', 'Mango', 'Orange', 'Banana', 'Petroot', 'Apple']\n",
        "list.sort(reverse = True)\n",
        "print(list)"
      ],
      "metadata": {
        "colab": {
          "base_uri": "https://localhost:8080/"
        },
        "id": "OjwHLHWp2aGe",
        "outputId": "f27a415f-4972-430d-c356-c285d9b5e0dc"
      },
      "execution_count": 24,
      "outputs": [
        {
          "output_type": "stream",
          "name": "stdout",
          "text": [
            "['pineapple', 'Petroot', 'Orange', 'Mango', 'Banana', 'Apple']\n"
          ]
        }
      ]
    },
    {
      "cell_type": "code",
      "source": [
        "str = \"We are human in here\"\n",
        "print(len(str))\n",
        "str = str.strip()"
      ],
      "metadata": {
        "colab": {
          "base_uri": "https://localhost:8080/"
        },
        "id": "YaIRVp3-2nNs",
        "outputId": "eb387637-d7cb-4c35-d065-6c7863a5abc5"
      },
      "execution_count": 25,
      "outputs": [
        {
          "output_type": "stream",
          "name": "stdout",
          "text": [
            "20\n"
          ]
        }
      ]
    },
    {
      "cell_type": "code",
      "source": [],
      "metadata": {
        "id": "tfjhozpC3HZB"
      },
      "execution_count": null,
      "outputs": []
    }
  ]
}