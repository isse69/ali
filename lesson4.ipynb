{
  "nbformat": 4,
  "nbformat_minor": 0,
  "metadata": {
    "colab": {
      "provenance": [],
      "name": "lesson4.ipynb",
      "authorship_tag": "ABX9TyPIEV+5iwabG6CpzT2fxgkp",
      "include_colab_link": true
    },
    "kernelspec": {
      "name": "python3",
      "display_name": "Python 3"
    },
    "language_info": {
      "name": "python"
    }
  },
  "cells": [
    {
      "cell_type": "markdown",
      "metadata": {
        "id": "view-in-github",
        "colab_type": "text"
      },
      "source": [
        "<a href=\"https://colab.research.google.com/github/isse69/ali/blob/main/lesson4.ipynb\" target=\"_parent\"><img src=\"https://colab.research.google.com/assets/colab-badge.svg\" alt=\"Open In Colab\"/></a>"
      ]
    },
    {
      "cell_type": "code",
      "execution_count": null,
      "metadata": {
        "colab": {
          "base_uri": "https://localhost:8080/"
        },
        "id": "cb2poXPfF6Y1",
        "outputId": "6230e199-a287-44bb-c6f8-422fc73035f2"
      },
      "outputs": [
        {
          "output_type": "stream",
          "name": "stdout",
          "text": [
            "20\n"
          ]
        }
      ],
      "source": [
        "from turtle import*\n",
        "from colorsys import*\n",
        "bgcolor(\"black\")\n",
        "speed(0)\n",
        "h=0\n",
        "from i in range(200):\n",
        "h+=0.0015\n",
        "color(hsv_to_rgb(h,1,1))\n",
        "goto(0,0)\n",
        "fd(i*1.5)\n",
        "circle(100,50)\n",
        "rt(10)\n",
        "hideturtle()\n",
        "done()"
      ]
    },
    {
      "cell_type": "code",
      "source": [
        "s"
      ],
      "metadata": {
        "colab": {
          "base_uri": "https://localhost:8080/"
        },
        "id": "oOcA2Hx8KJqo",
        "outputId": "cab5e6cc-603a-4f3f-9158-c7fe836431a1"
      },
      "execution_count": null,
      "outputs": [
        {
          "output_type": "stream",
          "name": "stdout",
          "text": [
            "WELCOME TO PYTHON PROGRAMMING METHOD\n"
          ]
        }
      ]
    },
    {
      "cell_type": "code",
      "source": [
        "str = \"Welcome to Python programming method\"\n",
        "print(str.lower())"
      ],
      "metadata": {
        "colab": {
          "base_uri": "https://localhost:8080/"
        },
        "id": "7efVT_eTKKEG",
        "outputId": "8abcf716-b715-4b7c-8cb6-66327c9d5b80"
      },
      "execution_count": null,
      "outputs": [
        {
          "output_type": "stream",
          "name": "stdout",
          "text": [
            "welcome to python programming method\n"
          ]
        }
      ]
    },
    {
      "cell_type": "code",
      "source": [
        "str = \"Welcome to Python programming method\"\n",
        "print(str.capitalize())"
      ],
      "metadata": {
        "colab": {
          "base_uri": "https://localhost:8080/"
        },
        "id": "47PGyzJJKL2A",
        "outputId": "f4edf45f-f345-4db7-8b64-ec95e314cbd7"
      },
      "execution_count": null,
      "outputs": [
        {
          "output_type": "stream",
          "name": "stdout",
          "text": [
            "Welcome to python programming method\n"
          ]
        }
      ]
    },
    {
      "cell_type": "code",
      "source": [
        "str = \"Welcome to Python programming method\"\n",
        "print(str.replace(\"Python\", \"Java\"))"
      ],
      "metadata": {
        "colab": {
          "base_uri": "https://localhost:8080/"
        },
        "id": "u4-7qp36Ihev",
        "outputId": "a0dd4ab8-eebc-4776-d524-1a3cfd5a5ae2"
      },
      "execution_count": null,
      "outputs": [
        {
          "output_type": "stream",
          "name": "stdout",
          "text": [
            "Welcome to Java programming method\n"
          ]
        }
      ]
    },
    {
      "cell_type": "code",
      "source": [
        "  str = \"Welcome to Python programming method\"\n",
        "print(str.split())"
      ],
      "metadata": {
        "colab": {
          "base_uri": "https://localhost:8080/"
        },
        "id": "iGVQaoTAKLJI",
        "outputId": "cf73a5bf-03ef-411e-d7f8-538db333543c"
      },
      "execution_count": null,
      "outputs": [
        {
          "output_type": "stream",
          "name": "stdout",
          "text": [
            "['Welcome', 'to', 'Python', 'programming', 'method']\n"
          ]
        }
      ]
    },
    {
      "cell_type": "code",
      "source": [
        "str = \"Welcome to Python programming method\"\n",
        "print(str.split(\"to\"))"
      ],
      "metadata": {
        "colab": {
          "base_uri": "https://localhost:8080/"
        },
        "id": "7137Ye9lL0E2",
        "outputId": "16b99c09-c7e7-46cb-bc43-bd8b96ad7338"
      },
      "execution_count": null,
      "outputs": [
        {
          "output_type": "stream",
          "name": "stdout",
          "text": [
            "['Welcome ', ' Python programming method']\n"
          ]
        }
      ]
    },
    {
      "cell_type": "code",
      "source": [
        "str = \"Welcome to Python programming method\"\n",
        "print(str.count(\"o\"))"
      ],
      "metadata": {
        "colab": {
          "base_uri": "https://localhost:8080/"
        },
        "id": "0selWOrBL6If",
        "outputId": "8e54d791-e5cb-43f7-b661-383e04d4139d"
      },
      "execution_count": null,
      "outputs": [
        {
          "output_type": "stream",
          "name": "stdout",
          "text": [
            "5\n"
          ]
        }
      ]
    },
    {
      "cell_type": "code",
      "source": [
        "str = \"Welcome to Python programming method\"\n",
        "print(str.find(\"to\"))"
      ],
      "metadata": {
        "colab": {
          "base_uri": "https://localhost:8080/"
        },
        "id": "N9r6fAz6L-RE",
        "outputId": "5c6af3a6-9c9c-4656-cc04-3f7f51c1675e"
      },
      "execution_count": null,
      "outputs": [
        {
          "output_type": "stream",
          "name": "stdout",
          "text": [
            "8\n"
          ]
        }
      ]
    },
    {
      "cell_type": "code",
      "source": [
        "str = \"Welcome to Python programming method\"\n",
        "print(str.expandtabs())"
      ],
      "metadata": {
        "colab": {
          "base_uri": "https://localhost:8080/"
        },
        "id": "lWrjrqAKMDN6",
        "outputId": "96bdf432-4981-43e3-cd33-7d3f5adf51cb"
      },
      "execution_count": null,
      "outputs": [
        {
          "output_type": "stream",
          "name": "stdout",
          "text": [
            "Welcome to Python programming method\n"
          ]
        }
      ]
    },
    {
      "cell_type": "code",
      "source": [
        "str = \"Welcome to Python programming method\"\n",
        "print(str.encode())"
      ],
      "metadata": {
        "colab": {
          "base_uri": "https://localhost:8080/"
        },
        "id": "KQMuC32cMPUQ",
        "outputId": "9033a4d5-f9b3-486d-c9cf-4dcb39374ce6"
      },
      "execution_count": null,
      "outputs": [
        {
          "output_type": "stream",
          "name": "stdout",
          "text": [
            "b'Welcome to Python programming method'\n"
          ]
        }
      ]
    },
    {
      "cell_type": "code",
      "source": [
        "str = \"Welcome to Python programming method\"\n",
        "print(str.endswith(\"method\"))"
      ],
      "metadata": {
        "colab": {
          "base_uri": "https://localhost:8080/"
        },
        "id": "0HXTVlu-MUEP",
        "outputId": "dda743c6-a836-45d1-cff1-8665da466e7e"
      },
      "execution_count": null,
      "outputs": [
        {
          "output_type": "stream",
          "name": "stdout",
          "text": [
            "True\n"
          ]
        }
      ]
    },
    {
      "cell_type": "code",
      "source": [
        "str = \"Welcome to Python programming method\"\n",
        "print(str.startswith(\"Welcome\"))"
      ],
      "metadata": {
        "colab": {
          "base_uri": "https://localhost:8080/"
        },
        "id": "eKRFMed8MfMa",
        "outputId": "71092d08-4164-49e3-bb5e-1b88688bbdbc"
      },
      "execution_count": null,
      "outputs": [
        {
          "output_type": "stream",
          "name": "stdout",
          "text": [
            "True\n"
          ]
        }
      ]
    },
    {
      "cell_type": "code",
      "source": [
        "v2 = 2\n",
        "v3 = 3\n",
        "print(f\"Welcome to Python programming version  {2} and {3}\")"
      ],
      "metadata": {
        "colab": {
          "base_uri": "https://localhost:8080/"
        },
        "id": "KK3swylLMjXo",
        "outputId": "789d47b6-50db-408f-991a-881cf7335155"
      },
      "execution_count": null,
      "outputs": [
        {
          "output_type": "stream",
          "name": "stdout",
          "text": [
            "Welcome to Python programming version  2 and 3\n"
          ]
        }
      ]
    },
    {
      "cell_type": "code",
      "source": [
        "def count_primes_optimized(num):\n",
        "    if num < 2:\n",
        "        return 0\n",
        "    primes = [2]\n",
        "    x = 3\n",
        "    while x <= num:\n",
        "        for y in primes:\n",
        "            if x % y == 0:\n",
        "                break\n",
        "            if y * y > x:\n",
        "                break\n",
        "        else:\n",
        "            primes.append(x)\n",
        "        x += 2\n",
        "    return len(primes)"
      ],
      "metadata": {
        "id": "XJQmtvDxN_iH"
      },
      "execution_count": null,
      "outputs": []
    },
    {
      "cell_type": "code",
      "source": [],
      "metadata": {
        "id": "Pnb94hngSPjc"
      },
      "execution_count": null,
      "outputs": []
    }
  ]
}